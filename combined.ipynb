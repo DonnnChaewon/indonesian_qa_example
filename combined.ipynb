{
 "cells": [
  {
   "cell_type": "code",
   "execution_count": 20,
   "id": "17af16ab",
   "metadata": {},
   "outputs": [],
   "source": [
    "import csv\n",
    "import pandas as pd"
   ]
  },
  {
   "cell_type": "code",
   "execution_count": 23,
   "id": "c5d49ac8",
   "metadata": {},
   "outputs": [],
   "source": [
    "import csv\n",
    "\n",
    "files = ['combined_kaggle.csv', 'cnn_qa.csv', 'detik_qa.csv', 'liputan6_qa.csv']\n",
    "\n",
    "with open(\"combined_qa.csv\", \"w\", newline=\"\", encoding=\"utf-8\") as outfile:\n",
    "    writer = csv.writer(outfile)\n",
    "    header_written = False\n",
    "\n",
    "    for filename in files:\n",
    "        with open(filename, \"r\", encoding=\"utf-8\") as infile:\n",
    "            reader = csv.reader(infile)\n",
    "            header = next(reader)\n",
    "\n",
    "            # Write header only once\n",
    "            if not header_written:\n",
    "                writer.writerow(header)\n",
    "                header_written = True\n",
    "\n",
    "            # Write all rows\n",
    "            for row in reader:\n",
    "                writer.writerow(row)"
   ]
  },
  {
   "cell_type": "code",
   "execution_count": null,
   "id": "b91eb7dc",
   "metadata": {},
   "outputs": [],
   "source": [
    "# Load the Excel file\n",
    "df = pd.read_csv('combined_kaggle.csv')\n",
    "\n",
    "# Reorder the columns\n",
    "df = df[['content', 'question', 'answer']]\n",
    "\n",
    "# Save to a new Excel file\n",
    "df.to_csv('combined_kaggle.csv', index=False)"
   ]
  }
 ],
 "metadata": {
  "kernelspec": {
   "display_name": ".venv",
   "language": "python",
   "name": "python3"
  },
  "language_info": {
   "codemirror_mode": {
    "name": "ipython",
    "version": 3
   },
   "file_extension": ".py",
   "mimetype": "text/x-python",
   "name": "python",
   "nbconvert_exporter": "python",
   "pygments_lexer": "ipython3",
   "version": "3.11.9"
  }
 },
 "nbformat": 4,
 "nbformat_minor": 5
}
