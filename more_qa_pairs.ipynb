{
 "cells": [
  {
   "cell_type": "code",
   "execution_count": 1,
   "id": "353b2893",
   "metadata": {},
   "outputs": [],
   "source": [
    "import pandas as pd\n",
    "import ollama\n",
    "from tqdm import tqdm\n",
    "import re\n",
    "import os"
   ]
  },
  {
   "cell_type": "code",
   "execution_count": 2,
   "id": "c2c87bd3",
   "metadata": {},
   "outputs": [],
   "source": [
    "MODEL_NAME = \"gemma3:12b\"\n",
    "NUM_QUESTIONS = 2\n",
    "\n",
    "def generate_multiple_qa(text):\n",
    "    prompt = f\"\"\"\n",
    "    [INST] <<SYS>>\n",
    "    Anda adalah asisten AI yang ahli dalam bahasa Indonesia. \n",
    "    TUGAS: Buat {NUM_QUESTIONS} pertanyaan dan jawaban dari teks berita.\n",
    "    ATURAN:\n",
    "    1. GUNAKAN BAHASA INDONESIA SAJA\n",
    "    2. Format wajib: \n",
    "    • Pertanyaan: [teks pertanyaan]\n",
    "    • Jawaban: [teks jawaban] (maks 30 kata)\n",
    "    3. JANGAN gunakan bahasa Inggris sama sekali\n",
    "    4. Jawaban harus singkat dan relevan dengan teks\n",
    "    <</SYS>>\n",
    "\n",
    "    Teks berita:\n",
    "    {text}\n",
    "\n",
    "    Buat {NUM_QUESTIONS} pertanyaan dan jawaban dalam BAHASA INDONESIA: [/INST]\n",
    "    \"\"\"\n",
    "    \n",
    "    try:\n",
    "        response = ollama.generate(\n",
    "            model=MODEL_NAME,\n",
    "            prompt=prompt,\n",
    "            options={\n",
    "                \"temperature\": 0.8,  # Sedikit lebih kreatif\n",
    "                \"num_cnt\": 1024,\n",
    "                \"repeat_penalty\": 1.3\n",
    "            }\n",
    "        )\n",
    "        return response['response']\n",
    "    except Exception as e:\n",
    "        print(f\"Error: {e}\")\n",
    "        return None"
   ]
  },
  {
   "cell_type": "code",
   "execution_count": 3,
   "id": "d58fe57f",
   "metadata": {},
   "outputs": [],
   "source": [
    "def parse_multiple_qa(generated_text):\n",
    "    qa_pairs = []\n",
    "    lines = generated_text.split('\\n')\n",
    "    \n",
    "    for i in range(len(lines)):\n",
    "        line = lines[i].strip()\n",
    "        \n",
    "        # Deteksi pertanyaan dengan berbagai pattern\n",
    "        if any(pattern in line.lower() for pattern in ['pertanyaan', 'question', '1.', '2.', '3.']):\n",
    "            # Ekstrak pertanyaan\n",
    "            if ':' in line:\n",
    "                question = line.split(':', 1)[1].strip()\n",
    "            else:\n",
    "                question = re.sub(r'^\\d+\\.\\s*', '', line).strip()\n",
    "            \n",
    "            # Cari jawaban di line berikutnya\n",
    "            if i + 1 < len(lines):\n",
    "                next_line = lines[i + 1].strip()\n",
    "                if any(pattern in next_line.lower() for pattern in ['jawaban', 'answer']):\n",
    "                    if ':' in next_line:\n",
    "                        answer = next_line.split(':', 1)[1].strip()\n",
    "                    else:\n",
    "                        answer = next_line\n",
    "                    qa_pairs.append((question, answer))\n",
    "    \n",
    "    return qa_pairs[:NUM_QUESTIONS]"
   ]
  },
  {
   "cell_type": "code",
   "execution_count": 4,
   "id": "2323a58e",
   "metadata": {},
   "outputs": [],
   "source": [
    "def process_csv_with_checkpoint(input_path, output_path):\n",
    "    df = pd.read_csv(input_path, encoding='latin-1', on_bad_lines='skip', delimiter=';')\n",
    "    \n",
    "    # Load checkpoint jika ada\n",
    "    checkpoint_file = output_path + '_checkpoint.txt'\n",
    "    start_idx = 0\n",
    "    \n",
    "    if os.path.exists(checkpoint_file):\n",
    "        with open(checkpoint_file, 'r') as f:\n",
    "            start_idx = int(f.read().strip())\n",
    "        print(f\"Resuming from index {start_idx}\")\n",
    "    \n",
    "    results = []\n",
    "    # Load existing results jika ada\n",
    "    if os.path.exists(output_path):\n",
    "        existing_df = pd.read_csv(output_path, encoding='utf-8')\n",
    "        results = existing_df.to_dict('records')\n",
    "    \n",
    "    for idx in tqdm(range(start_idx, len(df)), total=len(df)-start_idx):\n",
    "        try:\n",
    "            row = df.iloc[idx]\n",
    "            content = str(row['content'])\n",
    "            \n",
    "            if not content or content.strip() == '' or content == 'nan':\n",
    "                continue\n",
    "                \n",
    "            generated = generate_multiple_qa(content)\n",
    "            \n",
    "            if generated:\n",
    "                qa_pairs = parse_multiple_qa(generated)\n",
    "                for q, a in qa_pairs:\n",
    "                    results.append({\n",
    "                        'content': content,\n",
    "                        'question': q,\n",
    "                        'answer': a\n",
    "                    })\n",
    "            \n",
    "            # Save checkpoint setiap record\n",
    "            with open(checkpoint_file, 'w') as f:\n",
    "                f.write(str(idx + 1))\n",
    "                \n",
    "            # Auto-save setiap 10 records\n",
    "            if idx % 10 == 0:\n",
    "                pd.DataFrame(results).to_csv(output_path, index=False, encoding='utf-8')\n",
    "                \n",
    "        except Exception as e:\n",
    "            print(f\"Error at index {idx}: {e}\")\n",
    "            continue\n",
    "    \n",
    "    pd.DataFrame(results).to_csv(output_path, index=False, encoding='utf-8')\n",
    "    if os.path.exists(checkpoint_file):\n",
    "        os.remove(checkpoint_file)"
   ]
  },
  {
   "cell_type": "code",
   "execution_count": 5,
   "id": "c1cae90c",
   "metadata": {},
   "outputs": [
    {
     "name": "stdout",
     "output_type": "stream",
     "text": [
      "Resuming from index 302\n"
     ]
    },
    {
     "name": "stderr",
     "output_type": "stream",
     "text": [
      "100%|██████████| 8/8 [08:35<00:00, 64.39s/it]\n"
     ]
    }
   ],
   "source": [
    "# Ganti baris eksekusi terakhir dengan:\n",
    "try:\n",
    "    process_csv_with_checkpoint('kompas_regional.csv', 'kompas_regional_qa.csv')\n",
    "except Exception as e:\n",
    "    print(f\"Process stopped with error: {e}\")\n",
    "    print()\n",
    "    print(\"But partial results have been saved.\")"
   ]
  }
 ],
 "metadata": {
  "kernelspec": {
   "display_name": ".venv",
   "language": "python",
   "name": "python3"
  },
  "language_info": {
   "codemirror_mode": {
    "name": "ipython",
    "version": 3
   },
   "file_extension": ".py",
   "mimetype": "text/x-python",
   "name": "python",
   "nbconvert_exporter": "python",
   "pygments_lexer": "ipython3",
   "version": "3.11.9"
  }
 },
 "nbformat": 4,
 "nbformat_minor": 5
}
